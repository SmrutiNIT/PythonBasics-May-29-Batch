{
  "nbformat": 4,
  "nbformat_minor": 0,
  "metadata": {
    "colab": {
      "name": "Assignment-2-Set2-Q5-[Basic-Statistic-Level-2].ipynb",
      "provenance": [],
      "collapsed_sections": [],
      "authorship_tag": "ABX9TyMUjil5OEsZhsbhL5hcmxK+",
      "include_colab_link": true
    },
    "kernelspec": {
      "name": "python3",
      "display_name": "Python 3"
    },
    "language_info": {
      "name": "python"
    }
  },
  "cells": [
    {
      "cell_type": "markdown",
      "metadata": {
        "id": "view-in-github",
        "colab_type": "text"
      },
      "source": [
        "<a href=\"https://colab.research.google.com/github/SmrutiNIT/PythonBasics-May-29-Batch/blob/main/Assignment_2_Set2_Q5_%5BBasic_Statistic_Level_2%5D.ipynb\" target=\"_parent\"><img src=\"https://colab.research.google.com/assets/colab-badge.svg\" alt=\"Open In Colab\"/></a>"
      ]
    },
    {
      "cell_type": "code",
      "execution_count": 1,
      "metadata": {
        "id": "ujR-7TtA3RYs"
      },
      "outputs": [],
      "source": [
        "import numpy as np\n",
        "from scipy import stats\n",
        "from scipy.stats import norm"
      ]
    },
    {
      "cell_type": "code",
      "source": [
        "# Mean profits from two different divisions of a company = Mean1 + Mean2\n",
        "Mean = 5+7\n",
        "print('Mean Profit is Rs', Mean*45,'Million')"
      ],
      "metadata": {
        "colab": {
          "base_uri": "https://localhost:8080/"
        },
        "id": "PFRMWZgW3wyr",
        "outputId": "0d93cc44-dae8-4490-9be5-f57f4bee11f5"
      },
      "execution_count": 2,
      "outputs": [
        {
          "output_type": "stream",
          "name": "stdout",
          "text": [
            "Mean Profit is Rs 540 Million\n"
          ]
        }
      ]
    },
    {
      "cell_type": "code",
      "source": [
        "# Variance of profits from two different divisions of a company = SD^2 = SD1^2 + SD2^2\n",
        "SD = np.sqrt((9)+(16))\n",
        "print('Standard Deviation is Rs', SD*45, 'Million')"
      ],
      "metadata": {
        "colab": {
          "base_uri": "https://localhost:8080/"
        },
        "id": "aowmb6BW38en",
        "outputId": "70274ec5-4f77-4025-f83f-aa9ebd507a10"
      },
      "execution_count": 5,
      "outputs": [
        {
          "output_type": "stream",
          "name": "stdout",
          "text": [
            "Standard Deviation is Rs 225.0 Million\n"
          ]
        }
      ]
    },
    {
      "cell_type": "code",
      "source": [
        "# A. Specify a Rupee range (centered on the mean) such that it contains 95% probability for the annual profit of the company.\n",
        "print('Range is Rs',(stats.norm.interval(0.95,540,225)),'in Millions')"
      ],
      "metadata": {
        "colab": {
          "base_uri": "https://localhost:8080/"
        },
        "id": "b0QgLRwd4Feh",
        "outputId": "e8e3f174-fa7d-47a9-e94d-85beda90298e"
      },
      "execution_count": 6,
      "outputs": [
        {
          "output_type": "stream",
          "name": "stdout",
          "text": [
            "Range is Rs (99.00810347848784, 980.9918965215122) in Millions\n"
          ]
        }
      ]
    },
    {
      "cell_type": "code",
      "source": [
        "# B. Specify the 5th percentile of profit (in Rupees) for the company\n",
        "# To compute 5th Percentile, we use the formula X=μ + Zσ; wherein from z table, 5 percentile = -1.645\n",
        "X= 540+(-1.645)*(225)\n",
        "print('5th percentile of profit (in Million Rupees) is',np.round(X,))"
      ],
      "metadata": {
        "colab": {
          "base_uri": "https://localhost:8080/"
        },
        "id": "s38fDcGq4M50",
        "outputId": "4e4ec9bf-83f9-40e4-aeda-1728196abbe2"
      },
      "execution_count": 7,
      "outputs": [
        {
          "output_type": "stream",
          "name": "stdout",
          "text": [
            "5th percentile of profit (in Million Rupees) is 170.0\n"
          ]
        }
      ]
    },
    {
      "cell_type": "code",
      "source": [
        "# C. Which of the two divisions has a larger probability of making a loss in a given year?"
      ],
      "metadata": {
        "id": "5lErzWyc4Rtr"
      },
      "execution_count": 8,
      "outputs": []
    },
    {
      "cell_type": "code",
      "source": [
        "# Probability of Division 1 making a loss P(X<0)\n",
        "stats.norm.cdf(0,5,3)"
      ],
      "metadata": {
        "colab": {
          "base_uri": "https://localhost:8080/"
        },
        "id": "ryamD01g4XBH",
        "outputId": "1df3a6b3-f317-4362-eacf-c1facda193e8"
      },
      "execution_count": 9,
      "outputs": [
        {
          "output_type": "execute_result",
          "data": {
            "text/plain": [
              "0.0477903522728147"
            ]
          },
          "metadata": {},
          "execution_count": 9
        }
      ]
    },
    {
      "cell_type": "code",
      "source": [
        "# Probability of Division 2 making a loss P(X<0)\n",
        "stats.norm.cdf(0,7,4)"
      ],
      "metadata": {
        "colab": {
          "base_uri": "https://localhost:8080/"
        },
        "id": "NDsOmyhn4bZA",
        "outputId": "61cc1fe0-71d0-4a56-ccea-b0cc14983f06"
      },
      "execution_count": 10,
      "outputs": [
        {
          "output_type": "execute_result",
          "data": {
            "text/plain": [
              "0.040059156863817086"
            ]
          },
          "metadata": {},
          "execution_count": 10
        }
      ]
    },
    {
      "cell_type": "code",
      "source": [
        ""
      ],
      "metadata": {
        "id": "h8LimR7h4fuc"
      },
      "execution_count": null,
      "outputs": []
    }
  ]
}
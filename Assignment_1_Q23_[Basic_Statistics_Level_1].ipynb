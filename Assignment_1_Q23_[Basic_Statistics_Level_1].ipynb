{
  "nbformat": 4,
  "nbformat_minor": 0,
  "metadata": {
    "colab": {
      "name": "Assignment-1-Q23 [Basic Statistics Level-1].ipynb",
      "provenance": [],
      "collapsed_sections": [],
      "authorship_tag": "ABX9TyNkxq98/Ow00jqWJ6gRbgh1",
      "include_colab_link": true
    },
    "kernelspec": {
      "name": "python3",
      "display_name": "Python 3"
    },
    "language_info": {
      "name": "python"
    }
  },
  "cells": [
    {
      "cell_type": "markdown",
      "metadata": {
        "id": "view-in-github",
        "colab_type": "text"
      },
      "source": [
        "<a href=\"https://colab.research.google.com/github/SmrutiNIT/PythonBasics-May-29-Batch/blob/main/Assignment_1_Q23_%5BBasic_Statistics_Level_1%5D.ipynb\" target=\"_parent\"><img src=\"https://colab.research.google.com/assets/colab-badge.svg\" alt=\"Open In Colab\"/></a>"
      ]
    },
    {
      "cell_type": "code",
      "execution_count": 2,
      "metadata": {
        "id": "3Z125mJTZJEz"
      },
      "outputs": [],
      "source": [
        "from scipy import stats\n",
        "from scipy.stats import norm\n"
      ]
    },
    {
      "cell_type": "code",
      "source": [
        "print('t Score of 95%:',stats.t.ppf(0.05,25-1))"
      ],
      "metadata": {
        "colab": {
          "base_uri": "https://localhost:8080/"
        },
        "id": "d56m8IreZLLm",
        "outputId": "81951f6c-1c07-4e36-b76e-903d2771af46"
      },
      "execution_count": 3,
      "outputs": [
        {
          "output_type": "stream",
          "name": "stdout",
          "text": [
            "t Score of 95%: -1.7108820799094282\n"
          ]
        }
      ]
    },
    {
      "cell_type": "code",
      "source": [
        "print('t Score of 96%:',stats.t.ppf(0.04,25-1))"
      ],
      "metadata": {
        "colab": {
          "base_uri": "https://localhost:8080/"
        },
        "id": "nu_s7GT4ZXS3",
        "outputId": "080def89-29c8-474e-f442-21741bb2f1ba"
      },
      "execution_count": 4,
      "outputs": [
        {
          "output_type": "stream",
          "name": "stdout",
          "text": [
            "t Score of 96%: -1.8280511719596344\n"
          ]
        }
      ]
    },
    {
      "cell_type": "code",
      "source": [
        "print('t Score of 99%:',stats.t.ppf(0.01,25-1))"
      ],
      "metadata": {
        "colab": {
          "base_uri": "https://localhost:8080/"
        },
        "id": "KqZq1MKSZcOT",
        "outputId": "0a4c2db8-e428-435e-fcdc-1ab4e5bc5576"
      },
      "execution_count": 5,
      "outputs": [
        {
          "output_type": "stream",
          "name": "stdout",
          "text": [
            "t Score of 99%: -2.4921594731575762\n"
          ]
        }
      ]
    },
    {
      "cell_type": "code",
      "source": [
        ""
      ],
      "metadata": {
        "id": "8ZycbGcwZhBK"
      },
      "execution_count": null,
      "outputs": []
    }
  ]
}
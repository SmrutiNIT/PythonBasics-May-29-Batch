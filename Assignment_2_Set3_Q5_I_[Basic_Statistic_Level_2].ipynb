{
  "nbformat": 4,
  "nbformat_minor": 0,
  "metadata": {
    "colab": {
      "name": "Assignment-2-Set3-Q5-I-[Basic-Statistic-Level-2].ipynb",
      "provenance": [],
      "collapsed_sections": [],
      "authorship_tag": "ABX9TyO8fARmtGnzslv6nRIZyftl",
      "include_colab_link": true
    },
    "kernelspec": {
      "name": "python3",
      "display_name": "Python 3"
    },
    "language_info": {
      "name": "python"
    }
  },
  "cells": [
    {
      "cell_type": "markdown",
      "metadata": {
        "id": "view-in-github",
        "colab_type": "text"
      },
      "source": [
        "<a href=\"https://colab.research.google.com/github/SmrutiNIT/PythonBasics-May-29-Batch/blob/main/Assignment_2_Set3_Q5_I_%5BBasic_Statistic_Level_2%5D.ipynb\" target=\"_parent\"><img src=\"https://colab.research.google.com/assets/colab-badge.svg\" alt=\"Open In Colab\"/></a>"
      ]
    },
    {
      "cell_type": "code",
      "execution_count": 1,
      "metadata": {
        "id": "0_tFzX3R3Ct7"
      },
      "outputs": [],
      "source": [
        "import numpy as np\n",
        "from scipy import stats\n",
        "from scipy.stats import norm"
      ]
    },
    {
      "cell_type": "code",
      "source": [
        "# Apply One-Sample One-Tail z-test"
      ],
      "metadata": {
        "id": "Vzs5ov0y4NF2"
      },
      "execution_count": 2,
      "outputs": []
    },
    {
      "cell_type": "code",
      "source": [
        "z_scores=(0.046-0.05)/(np.sqrt((0.05*(1-0.05))/2000))\n",
        "z_scores"
      ],
      "metadata": {
        "colab": {
          "base_uri": "https://localhost:8080/"
        },
        "id": "DSfdxXfR4TK2",
        "outputId": "30892ec2-3606-43ba-dfa7-3d0d66258fea"
      },
      "execution_count": 3,
      "outputs": [
        {
          "output_type": "execute_result",
          "data": {
            "text/plain": [
              "-0.820782681668124"
            ]
          },
          "metadata": {},
          "execution_count": 3
        }
      ]
    },
    {
      "cell_type": "code",
      "source": [
        "# To find Probability assuming null hyposthesis, so as to compare with Type-1 error α = 0.05"
      ],
      "metadata": {
        "id": "ogmWbl5t4Y_n"
      },
      "execution_count": null,
      "outputs": []
    },
    {
      "cell_type": "code",
      "source": [
        "p_value=1-stats.norm.cdf(abs(z_scores))\n",
        "p_value"
      ],
      "metadata": {
        "colab": {
          "base_uri": "https://localhost:8080/"
        },
        "id": "8cX9DjYF4f1G",
        "outputId": "fc4d5a94-d933-4455-e9a9-d3b66fbdd23a"
      },
      "execution_count": 4,
      "outputs": [
        {
          "output_type": "execute_result",
          "data": {
            "text/plain": [
              "0.20588503245107104"
            ]
          },
          "metadata": {},
          "execution_count": 4
        }
      ]
    },
    {
      "cell_type": "code",
      "source": [
        "# s (p_value = 0.2058) > (α = 0.05) ; Accept Null Hypothesis\n",
        "# i.e. Mozilla market share > 5% \n",
        "# Hence, Microsoft can not conclude that Mozilla has a less than 5% share of the market"
      ],
      "metadata": {
        "id": "41tqPLdq4mzN"
      },
      "execution_count": null,
      "outputs": []
    }
  ]
}
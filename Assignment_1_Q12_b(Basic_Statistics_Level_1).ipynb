{
  "nbformat": 4,
  "nbformat_minor": 0,
  "metadata": {
    "colab": {
      "name": "Assignment-1-Q12_b(Basic Statistics Level-1).ipynb",
      "provenance": [],
      "collapsed_sections": [],
      "authorship_tag": "ABX9TyNF6aLQFhBYj3/FqEFrpAbk",
      "include_colab_link": true
    },
    "kernelspec": {
      "name": "python3",
      "display_name": "Python 3"
    },
    "language_info": {
      "name": "python"
    }
  },
  "cells": [
    {
      "cell_type": "markdown",
      "metadata": {
        "id": "view-in-github",
        "colab_type": "text"
      },
      "source": [
        "<a href=\"https://colab.research.google.com/github/SmrutiNIT/PythonBasics-May-29-Batch/blob/main/Assignment_1_Q12_b(Basic_Statistics_Level_1).ipynb\" target=\"_parent\"><img src=\"https://colab.research.google.com/assets/colab-badge.svg\" alt=\"Open In Colab\"/></a>"
      ]
    },
    {
      "cell_type": "code",
      "execution_count": 1,
      "metadata": {
        "id": "EleZv-mM5c7f"
      },
      "outputs": [],
      "source": [
        "import numpy as np\n",
        "a = np.array([34,36,36,38,38,39,39,40,40,41,41,41,41,42,42,45,49,56])"
      ]
    },
    {
      "cell_type": "code",
      "source": [
        "print('Mean:',a.mean())\n",
        "print('Median:',np.median(a))\n",
        "print('Variance:',a.var())\n",
        "print('Std deviation:',a.std())"
      ],
      "metadata": {
        "colab": {
          "base_uri": "https://localhost:8080/"
        },
        "id": "MBk6udYP5e8R",
        "outputId": "83a0efb5-6b16-4dcb-ebde-3a8a2e4ed505"
      },
      "execution_count": 2,
      "outputs": [
        {
          "output_type": "stream",
          "name": "stdout",
          "text": [
            "Mean: 41.0\n",
            "Median: 40.5\n",
            "Variance: 24.11111111111111\n",
            "Std deviation: 4.910306620885412\n"
          ]
        }
      ]
    }
  ]
}